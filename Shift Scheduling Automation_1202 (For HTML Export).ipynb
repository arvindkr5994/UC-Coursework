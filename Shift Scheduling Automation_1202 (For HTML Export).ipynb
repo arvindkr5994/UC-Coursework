{
 "cells": [
  {
   "cell_type": "markdown",
   "metadata": {},
   "source": [
    "# Shift Scheduling Automation Model"
   ]
  },
  {
   "cell_type": "markdown",
   "metadata": {},
   "source": [
    "### Import packages"
   ]
  },
  {
   "cell_type": "code",
   "execution_count": 466,
   "metadata": {},
   "outputs": [],
   "source": [
    "from pulp import *\n",
    "import pandas as pd\n",
    "import seaborn as sns\n",
    "from matplotlib import pyplot as plt"
   ]
  },
  {
   "cell_type": "markdown",
   "metadata": {},
   "source": [
    "### Initialize Variables"
   ]
  },
  {
   "cell_type": "code",
   "execution_count": 467,
   "metadata": {},
   "outputs": [],
   "source": [
    "days = 90\n",
    "employees = 50\n",
    "min_resource_count = 10\n",
    "max_consecutive_days = 6"
   ]
  },
  {
   "cell_type": "code",
   "execution_count": 468,
   "metadata": {},
   "outputs": [],
   "source": [
    "var_L = pulp.LpVariable.dicts('Leave', (range(days), range(employees)), 0, 1, 'Binary')\n",
    "var_M = pulp.LpVariable.dicts('Morning', (range(days), range(employees)), 0, 1, 'Binary')\n",
    "var_N = pulp.LpVariable.dicts('Night', (range(days), range(employees)), 0, 1, 'Binary')"
   ]
  },
  {
   "cell_type": "markdown",
   "metadata": {},
   "source": [
    "### Objective Function"
   ]
  },
  {
   "cell_type": "code",
   "execution_count": 449,
   "metadata": {},
   "outputs": [],
   "source": [
    "obj = []\n",
    "for i in range(days):\n",
    "    for j in range(employees):\n",
    "        obj += var_M[i][j] + var_N[i][j]\n"
   ]
  },
  {
   "cell_type": "code",
   "execution_count": 450,
   "metadata": {},
   "outputs": [],
   "source": [
    "problem = pulp.LpProblem(name='shift_scheduling',sense= LpMaximize)\n",
    "problem += obj"
   ]
  },
  {
   "cell_type": "markdown",
   "metadata": {},
   "source": [
    "### Constraints"
   ]
  },
  {
   "cell_type": "markdown",
   "metadata": {},
   "source": [
    "#### Constraint 1 - Only 1 shift either morning or night per employee"
   ]
  },
  {
   "cell_type": "code",
   "execution_count": 452,
   "metadata": {},
   "outputs": [],
   "source": [
    "for i in range(days):\n",
    "    for j in range(employees):\n",
    "        const_1 = []\n",
    "        const_1 += var_L[i][j] + var_M[i][j] + var_N[i][j] \n",
    "        problem += const_1 == 1"
   ]
  },
  {
   "cell_type": "markdown",
   "metadata": {},
   "source": [
    "#### Constraint 2 - Minimum employee per shift constraint"
   ]
  },
  {
   "cell_type": "code",
   "execution_count": 454,
   "metadata": {},
   "outputs": [],
   "source": [
    "\n",
    "for i in range(days):\n",
    "    const_2_1 = []\n",
    "    const_2_2 = [] \n",
    "    for j in range(employees):   \n",
    "        const_2_1 += var_M[i][j]\n",
    "        const_2_2 += var_N[i][j]\n",
    "    problem += const_2_1 >= min_resource_count\n",
    "    problem += const_2_2 >= min_resource_count\n",
    "        \n"
   ]
  },
  {
   "cell_type": "markdown",
   "metadata": {},
   "source": [
    "#### Constraint 3 - Employee needs to be on same shift in consecutive days, people can't work night and then come in for the next morning's shift"
   ]
  },
  {
   "cell_type": "code",
   "execution_count": 456,
   "metadata": {},
   "outputs": [],
   "source": [
    "for j in range(employees):\n",
    "    for i in range(days - 1):\n",
    "        const_3_1 = []\n",
    "        const_3_1 += var_M[i][j] + var_N[i+1][j]\n",
    "        problem += const_3_1 <= 1 \n",
    "\n",
    "for j in range(employees):\n",
    "    for i in range(days - 1): \n",
    "        const_3_2 = []\n",
    "        const_3_2 += var_N[i][j] + var_M[i+1][j]\n",
    "        problem += const_3_2 <= 1\n",
    "    "
   ]
  },
  {
   "cell_type": "markdown",
   "metadata": {},
   "source": [
    "##### Constraint 4 - Rotating shift atleast once in 2 weeks"
   ]
  },
  {
   "cell_type": "code",
   "execution_count": 458,
   "metadata": {},
   "outputs": [],
   "source": [
    "# Morning \n",
    "for j in range(employees):\n",
    "    for i in range(0, days - 14, 2):\n",
    "        const_4_1 = None\n",
    "        const_4_1 += var_M[i][j] + var_M[i+7][j] + var_M[i+14][j]\n",
    "        problem += const_4_1 <= 2\n",
    "\n",
    "# Morning \n",
    "for j in range(employees):\n",
    "    for i in range(0, days - 14, 2):\n",
    "        const_4_2 = None\n",
    "        const_4_2 += var_N[i][j] + var_N[i+7][j] + var_N[i+14][j]\n",
    "        problem += const_4_2 <= 2\n",
    "\n"
   ]
  },
  {
   "cell_type": "markdown",
   "metadata": {},
   "source": [
    "##### Constraint 5 - Max consecutive days worked"
   ]
  },
  {
   "cell_type": "code",
   "execution_count": 460,
   "metadata": {},
   "outputs": [],
   "source": [
    "       \n",
    "for j in range(employees):\n",
    "    for i in range(0, days-6):\n",
    "        const_5 = []\n",
    "        for w in range(7):\n",
    "            const_5 += var_M[i+w][j] + var_N[i+w][j]\n",
    "        problem += const_5 <= max_consecutive_days"
   ]
  },
  {
   "cell_type": "markdown",
   "metadata": {},
   "source": [
    "### Checking if optimal solution is found and also checking runtime"
   ]
  },
  {
   "cell_type": "code",
   "execution_count": 469,
   "metadata": {},
   "outputs": [
    {
     "name": "stdout",
     "output_type": "stream",
     "text": [
      "Optimal Solution Found\n",
      "1019.8371398448944\n"
     ]
    }
   ],
   "source": [
    "import time\n",
    "start = time.time()\n",
    "\n",
    "if problem.solve() == 1:\n",
    "    print('Optimal Solution Found')\n",
    "else:\n",
    "    print('Optimal Solution Not Available')\n",
    "\n",
    "end = time.time()\n",
    "print(end - start)\n"
   ]
  },
  {
   "cell_type": "markdown",
   "metadata": {},
   "source": [
    "### Putting the schedule in a dataframe"
   ]
  },
  {
   "cell_type": "code",
   "execution_count": 463,
   "metadata": {},
   "outputs": [],
   "source": [
    "\n",
    "variable_name = []\n",
    "variable_value = []\n",
    "\n",
    "for v in problem.variables():\n",
    "    if v.varValue == 1:\n",
    "        variable_name.append(v.name)\n",
    "        variable_value.append(v.varValue)\n",
    "        \n",
    "df = pd.DataFrame({'variable': variable_name, 'value': variable_value})\n",
    "\n",
    "# Splitting the variable name\n",
    "\n",
    "df[['shift','day','employee']] = df['variable'].str.split('_',expand=True)\n",
    "\n",
    "# Accounting for python 0 indexing\n",
    "\n",
    "df['day'] = pd.to_numeric(df['day'])+1\n",
    "\n",
    "df['employee'] = pd.to_numeric(df['employee'])+1\n"
   ]
  },
  {
   "cell_type": "code",
   "execution_count": 464,
   "metadata": {},
   "outputs": [
    {
     "data": {
      "text/html": [
       "<div>\n",
       "<style scoped>\n",
       "    .dataframe tbody tr th:only-of-type {\n",
       "        vertical-align: middle;\n",
       "    }\n",
       "\n",
       "    .dataframe tbody tr th {\n",
       "        vertical-align: top;\n",
       "    }\n",
       "\n",
       "    .dataframe thead th {\n",
       "        text-align: right;\n",
       "    }\n",
       "</style>\n",
       "<table border=\"1\" class=\"dataframe\">\n",
       "  <thead>\n",
       "    <tr style=\"text-align: right;\">\n",
       "      <th></th>\n",
       "      <th>variable</th>\n",
       "      <th>value</th>\n",
       "      <th>shift</th>\n",
       "      <th>day</th>\n",
       "      <th>employee</th>\n",
       "    </tr>\n",
       "  </thead>\n",
       "  <tbody>\n",
       "    <tr>\n",
       "      <th>0</th>\n",
       "      <td>Leave_10_8</td>\n",
       "      <td>1.0</td>\n",
       "      <td>Leave</td>\n",
       "      <td>11</td>\n",
       "      <td>9</td>\n",
       "    </tr>\n",
       "    <tr>\n",
       "      <th>1</th>\n",
       "      <td>Leave_11_11</td>\n",
       "      <td>1.0</td>\n",
       "      <td>Leave</td>\n",
       "      <td>12</td>\n",
       "      <td>12</td>\n",
       "    </tr>\n",
       "    <tr>\n",
       "      <th>2</th>\n",
       "      <td>Leave_11_14</td>\n",
       "      <td>1.0</td>\n",
       "      <td>Leave</td>\n",
       "      <td>12</td>\n",
       "      <td>15</td>\n",
       "    </tr>\n",
       "    <tr>\n",
       "      <th>3</th>\n",
       "      <td>Leave_11_15</td>\n",
       "      <td>1.0</td>\n",
       "      <td>Leave</td>\n",
       "      <td>12</td>\n",
       "      <td>16</td>\n",
       "    </tr>\n",
       "    <tr>\n",
       "      <th>4</th>\n",
       "      <td>Leave_11_21</td>\n",
       "      <td>1.0</td>\n",
       "      <td>Leave</td>\n",
       "      <td>12</td>\n",
       "      <td>22</td>\n",
       "    </tr>\n",
       "    <tr>\n",
       "      <th>...</th>\n",
       "      <td>...</td>\n",
       "      <td>...</td>\n",
       "      <td>...</td>\n",
       "      <td>...</td>\n",
       "      <td>...</td>\n",
       "    </tr>\n",
       "    <tr>\n",
       "      <th>4495</th>\n",
       "      <td>Night_9_48</td>\n",
       "      <td>1.0</td>\n",
       "      <td>Night</td>\n",
       "      <td>10</td>\n",
       "      <td>49</td>\n",
       "    </tr>\n",
       "    <tr>\n",
       "      <th>4496</th>\n",
       "      <td>Night_9_49</td>\n",
       "      <td>1.0</td>\n",
       "      <td>Night</td>\n",
       "      <td>10</td>\n",
       "      <td>50</td>\n",
       "    </tr>\n",
       "    <tr>\n",
       "      <th>4497</th>\n",
       "      <td>Night_9_5</td>\n",
       "      <td>1.0</td>\n",
       "      <td>Night</td>\n",
       "      <td>10</td>\n",
       "      <td>6</td>\n",
       "    </tr>\n",
       "    <tr>\n",
       "      <th>4498</th>\n",
       "      <td>Night_9_6</td>\n",
       "      <td>1.0</td>\n",
       "      <td>Night</td>\n",
       "      <td>10</td>\n",
       "      <td>7</td>\n",
       "    </tr>\n",
       "    <tr>\n",
       "      <th>4499</th>\n",
       "      <td>Night_9_8</td>\n",
       "      <td>1.0</td>\n",
       "      <td>Night</td>\n",
       "      <td>10</td>\n",
       "      <td>9</td>\n",
       "    </tr>\n",
       "  </tbody>\n",
       "</table>\n",
       "<p>4500 rows × 5 columns</p>\n",
       "</div>"
      ],
      "text/plain": [
       "         variable  value  shift  day  employee\n",
       "0      Leave_10_8    1.0  Leave   11         9\n",
       "1     Leave_11_11    1.0  Leave   12        12\n",
       "2     Leave_11_14    1.0  Leave   12        15\n",
       "3     Leave_11_15    1.0  Leave   12        16\n",
       "4     Leave_11_21    1.0  Leave   12        22\n",
       "...           ...    ...    ...  ...       ...\n",
       "4495   Night_9_48    1.0  Night   10        49\n",
       "4496   Night_9_49    1.0  Night   10        50\n",
       "4497    Night_9_5    1.0  Night   10         6\n",
       "4498    Night_9_6    1.0  Night   10         7\n",
       "4499    Night_9_8    1.0  Night   10         9\n",
       "\n",
       "[4500 rows x 5 columns]"
      ]
     },
     "execution_count": 464,
     "metadata": {},
     "output_type": "execute_result"
    }
   ],
   "source": [
    "df"
   ]
  },
  {
   "cell_type": "code",
   "execution_count": 465,
   "metadata": {},
   "outputs": [],
   "source": [
    "df.to_csv('E:/Arvind/Masters/UC Course Material/BANA 7020 - OPTIMIZATION/Project/schedule.csv')"
   ]
  },
  {
   "cell_type": "markdown",
   "metadata": {},
   "source": [
    "### Visualizing the schedule"
   ]
  },
  {
   "cell_type": "code",
   "execution_count": 440,
   "metadata": {},
   "outputs": [
    {
     "data": {
      "text/plain": [
       "<AxesSubplot:xlabel='day', ylabel='employee'>"
      ]
     },
     "execution_count": 440,
     "metadata": {},
     "output_type": "execute_result"
    },
    {
     "data": {
      "image/png": "[encoded data removed]",
      "text/plain": [
       "<Figure size 1440x720 with 2 Axes>"
      ]
     },
     "metadata": {
      "needs_background": "light"
     },
     "output_type": "display_data"
    }
   ],
   "source": [
    "\n",
    "df['shift_encoded'] = pd.factorize(df['shift'])[0]\n",
    "\n",
    "df_heatmap = df[['day','employee','shift_encoded']].pivot_table(values='shift_encoded',index='employee',columns='day')\n",
    "\n",
    "plt.figure(figsize = (20,10))\n",
    "\n",
    "sns.heatmap(df_heatmap, annot=True, fmt=\"g\", cmap='viridis')\n"
   ]
  },
  {
   "cell_type": "code",
   "execution_count": null,
   "metadata": {},
   "outputs": [],
   "source": []
  }
 ],
 "metadata": {
  "kernelspec": {
   "display_name": "Python 3",
   "language": "python",
   "name": "python3"
  },
  "language_info": {
   "codemirror_mode": {
    "name": "ipython",
    "version": 3
   },
   "file_extension": ".py",
   "mimetype": "text/x-python",
   "name": "python",
   "nbconvert_exporter": "python",
   "pygments_lexer": "ipython3",
   "version": "3.8.5"
  }
 },
 "nbformat": 4,
 "nbformat_minor": 4
}
